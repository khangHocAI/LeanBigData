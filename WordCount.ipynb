{
 "cells": [
  {
   "cell_type": "code",
   "execution_count": 1,
   "metadata": {},
   "outputs": [],
   "source": [
    "from pyspark import SparkContext, SparkConf\n",
    "conf = SparkConf().setMaster(\"yarn\").setAppName(\"WordCount\")\n",
    "sc = SparkContext(conf=conf)"
   ]
  },
  {
   "cell_type": "code",
   "execution_count": 2,
   "metadata": {},
   "outputs": [
    {
     "data": {
      "text/plain": [
       "[('spark.org.apache.hadoop.yarn.server.webproxy.amfilter.AmIpFilter.param.PROXY_URI_BASES',\n",
       "  'http://yarnmaster:8088/proxy/application_1635314650127_0005'),\n",
       " ('spark.app.startTime', '1635324879129'),\n",
       " ('spark.executorEnv.PYTHONPATH',\n",
       "  '/usr/local/spark/python:<CPS>{{PWD}}/pyspark.zip<CPS>{{PWD}}/py4j-0.10.9-src.zip'),\n",
       " ('spark.executor.id', 'driver'),\n",
       " ('spark.executor.heartbeatInterval', '10000000'),\n",
       " ('spark.driver.bindAddress', '192.1.1.11'),\n",
       " ('spark.ui.port', '4050'),\n",
       " ('spark.master', 'yarn'),\n",
       " ('spark.ui.proxyBase', '/proxy/application_1635314650127_0005'),\n",
       " ('spark.driver.appUIAddress', 'http://edge:4050'),\n",
       " ('spark.rdd.compress', 'True'),\n",
       " ('spark.yarn.jars', ''),\n",
       " ('spark.driver.port', '33705'),\n",
       " ('spark.driver.host', 'edge'),\n",
       " ('spark.app.name', 'WordCount'),\n",
       " ('spark.network.timeout', '10000001'),\n",
       " ('spark.serializer.objectStreamReset', '100'),\n",
       " ('spark.submit.pyFiles', ''),\n",
       " ('spark.yarn.isPython', 'true'),\n",
       " ('spark.submit.deployMode', 'client'),\n",
       " ('spark.app.id', 'application_1635314650127_0005'),\n",
       " ('spark.ui.filters',\n",
       "  'org.apache.hadoop.yarn.server.webproxy.amfilter.AmIpFilter'),\n",
       " ('spark.ui.showConsoleProgress', 'true'),\n",
       " ('spark.org.apache.hadoop.yarn.server.webproxy.amfilter.AmIpFilter.param.PROXY_HOSTS',\n",
       "  'yarnmaster')]"
      ]
     },
     "execution_count": 2,
     "metadata": {},
     "output_type": "execute_result"
    }
   ],
   "source": [
    "sc.getConf().getAll()"
   ]
  },
  {
   "cell_type": "markdown",
   "metadata": {},
   "source": [
    "Working with small text file"
   ]
  },
  {
   "cell_type": "code",
   "execution_count": 3,
   "metadata": {},
   "outputs": [],
   "source": [
    "lineRDD = (sc\n",
    "          .textFile(\"hdfs://yarnmaster:9000/data\",8))"
   ]
  },
  {
   "cell_type": "markdown",
   "metadata": {},
   "source": [
    "This function is for removing special symbols in the rdd\n",
    "Replace by space because there are some case like he's she'd ..."
   ]
  },
  {
   "cell_type": "code",
   "execution_count": 4,
   "metadata": {},
   "outputs": [],
   "source": [
    "def removePunctuation(x):\n",
    "  punc='!\"#$%&\\'()*+,-./:;<=>?@[\\\\]^_`{|}~-’“”‘'\n",
    "  for ch in punc:\n",
    "    x = x.replace(ch, ' ')\n",
    "  return x"
   ]
  },
  {
   "cell_type": "markdown",
   "metadata": {},
   "source": [
    "Test loader with the first 4 lines"
   ]
  },
  {
   "cell_type": "code",
   "execution_count": 5,
   "metadata": {},
   "outputs": [
    {
     "name": "stdout",
     "output_type": "stream",
     "text": [
      "0: word count from Wikipedia the free encyclopedia\n",
      "1: the word count is the number of words in a document or passage of text Word counting may be needed when a text\n",
      "2: is required to stay within certain numbers of words This may particularly be the case in academia legal\n",
      "3: proceedings journalism and advertising Word count is commonly used by translators to determine the price for\n"
     ]
    }
   ],
   "source": [
    "print('\\n'.join(lineRDD\n",
    "               .zipWithIndex()\n",
    "               .map(lambda t: '{0}: {1}'.format(t[1],t[0]))\n",
    "               .take(4)))"
   ]
  },
  {
   "cell_type": "markdown",
   "metadata": {},
   "source": [
    "Function to remove stopwords.\n",
    "I don't care about numbers and some wrong words that contain non alphabet character in it (ex:w0rd, l1ke,...)"
   ]
  },
  {
   "cell_type": "code",
   "execution_count": 6,
   "metadata": {},
   "outputs": [],
   "source": [
    "def isNotStopWord(word):\n",
    "    stop_word = ['ourselves', 'hers', 'between', 'yourself', 'but', 'again', 'there', 'about', 'once', 'during', 'out', 'very', 'having', 'with', 'they', 'own', 'an', 'be', 'some', 'for', 'do', 'its', 'yours', 'such', 'into', 'of', 'most', 'itself', 'other', 'off', 'is', 's', 'am', 'or', 'who', 'as', 'from', 'him', 'each', 'the', 'themselves', 'until', 'below', 'are', 'we', 'these', 'your', 'his', 'through', 'don', 'nor', 'me', 'were', 'her', 'more', 'himself', 'this', 'down', 'should', 'our', 'their', 'while', 'above', 'both', 'up', 'to', 'ours', 'had', 'she', 'all', 'no', 'when', 'at', 'any', 'before', 'them', 'same', 'and', 'been', 'have', 'in', 'will', 'on', 'does', 'yourselves', 'then', 'that', 'because', 'what', 'over', 'why', 'so', 'can', 'did', 'not', 'now', 'under', 'he', 'you', 'herself', 'has', 'just', 'where', 'too', 'only', 'myself', 'which', 'those', 'i', 'after', 'few', 'whom', 't', 'being', 'if', 'theirs', 'my', 'against', 'a', 'by', 'doing', 'it', 'how', 'further', 'was', 'here', 'than','st','th','er','ere','']\n",
    "    if word in stop_word:\n",
    "        return False\n",
    "    return True\n",
    "\n",
    "def removeIllegalWord(word):\n",
    "    if not char.isalpha():\n",
    "            word = word.replace(char, \"\")\n",
    "    return word"
   ]
  },
  {
   "cell_type": "markdown",
   "metadata": {},
   "source": [
    "- filteredRDD : This is the Splitting and Preprocessing step \n",
    "    + convert to lower case\n",
    "    + replace special symbols by space\n",
    "    + split into words\n",
    "    + remove stopwords\n",
    "    + remove non alphabet character\n",
    "    + we only care about word that has more than 1 character -> filter out 1 character words and empty strings\n",
    "- wordCountRDD: \n",
    "    + Map into key,val pairs -> Mapping and shuffling steps\n",
    "    + Reduce by key and sort -> Reducing steps"
   ]
  },
  {
   "cell_type": "code",
   "execution_count": 7,
   "metadata": {},
   "outputs": [
    {
     "name": "stdout",
     "output_type": "stream",
     "text": [
      "Time processing(s):  3.088181972503662\n",
      "Number of words:  304\n",
      "First word:  ('abstracts', 1)\n"
     ]
    }
   ],
   "source": [
    "import time\n",
    "start = time.time()\n",
    "#1. Count the number of times a word appears in the file\n",
    "filteredRDD = (lineRDD\n",
    "               .map(lambda x: x.lower())\n",
    "               .map(removePunctuation)\n",
    "               .flatMap(lambda x: x.split())\n",
    "               .filter(isNotStopWord)\n",
    "               .filter(lambda x: x.isalpha())\n",
    "               .filter(lambda x: len(x)>1)\n",
    "              )\n",
    "wordCountRDD = (filteredRDD\n",
    "               .map(lambda x: (x,1))\n",
    "               .reduceByKey(lambda a, b: a +b).sortBy(lambda x: x[0]))\n",
    "result = wordCountRDD.collect()\n",
    "num = wordCountRDD.count()\n",
    "end = time.time()\n",
    "print(\"Time processing(s): \", end-start)\n",
    "print(\"Number of words: \", num)\n",
    "print(\"First word: \", result[0])"
   ]
  },
  {
   "cell_type": "markdown",
   "metadata": {},
   "source": [
    "Just simply use RDD.max method"
   ]
  },
  {
   "cell_type": "code",
   "execution_count": 8,
   "metadata": {},
   "outputs": [
    {
     "name": "stdout",
     "output_type": "stream",
     "text": [
      "Time processing(s):  0.3239006996154785\n",
      "('word', 28)\n"
     ]
    }
   ],
   "source": [
    "#2. Calculate the most common words in the file\n",
    "import time\n",
    "start = time.time()\n",
    "max_ele = wordCountRDD.max(lambda x:x[1])\n",
    "end = time.time()\n",
    "print(\"Time processing(s): \", end-start)\n",
    "print(max_ele)"
   ]
  },
  {
   "cell_type": "markdown",
   "metadata": {},
   "source": [
    "Calculate total number of words and divide by number of unique words to get the average"
   ]
  },
  {
   "cell_type": "code",
   "execution_count": 9,
   "metadata": {},
   "outputs": [
    {
     "name": "stdout",
     "output_type": "stream",
     "text": [
      "Time processing(s):  0.6520419120788574\n",
      "1.5986842105263157\n"
     ]
    }
   ],
   "source": [
    "#3. Calculate the average number of appearances of all words.\n",
    "start = time.time()\n",
    "from operator import add\n",
    "uniqueWordCount = wordCountRDD.count()\n",
    "totalWordCount = wordCountRDD.map(lambda x: x[1]).reduce(add)\n",
    "totalWordCount/uniqueWordCount\n",
    "end = time.time()\n",
    "print(\"Time processing(s): \", end-start)\n",
    "print(totalWordCount/uniqueWordCount)"
   ]
  },
  {
   "cell_type": "code",
   "execution_count": 10,
   "metadata": {},
   "outputs": [
    {
     "name": "stdout",
     "output_type": "stream",
     "text": [
      "Number of words:  304\n",
      "Maximum number of possible combinations:  46208.0\n"
     ]
    }
   ],
   "source": [
    "#4. Calculate the frequency of combination of two words appears in the text file.\n",
    "print(\"Number of words: \",uniqueWordCount)\n",
    "print(\"Maximum number of possible combinations: \", uniqueWordCount*uniqueWordCount/2)"
   ]
  },
  {
   "cell_type": "markdown",
   "metadata": {},
   "source": [
    "The number of combinations is only 46208 -> able to solve with rdd.cartesian()"
   ]
  },
  {
   "cell_type": "markdown",
   "metadata": {},
   "source": [
    "Function to produce result after cartesian.\n",
    "If 2 words are the same and appear n times -> number of combinations is n*(n-1)/2\n",
    "Else if 2 words are different and appears n,m times -> number of combinations is n*m"
   ]
  },
  {
   "cell_type": "code",
   "execution_count": 11,
   "metadata": {},
   "outputs": [],
   "source": [
    "def combinations_func(x):\n",
    "    if x[0][0] == x[1][0]:\n",
    "        return (x[0][0],x[1][0],(x[0][1]-1)*x[0][1]/2)\n",
    "    else:\n",
    "        return (x[0][0],x[1][0],x[0][1]*x[1][1])"
   ]
  },
  {
   "cell_type": "markdown",
   "metadata": {},
   "source": [
    "Do the cartesian -> combination function mapping -> filter out the pairs that appeared 0 times.\n",
    "If a word appears 1 times -> the pair (word, word) will appear 0 times\n",
    "\n",
    "+ I filter out pair that has x[0][0] <= x[1][0] to avoid duplication, for example: (abc,xyz) and (xyz,abc)"
   ]
  },
  {
   "cell_type": "code",
   "execution_count": 12,
   "metadata": {},
   "outputs": [
    {
     "name": "stdout",
     "output_type": "stream",
     "text": [
      "Time processing(s):  23.13502335548401\n",
      "Number of combinations:  46124\n",
      "First pair:  ('abstracts', 'academia', 1)\n"
     ]
    }
   ],
   "source": [
    "start = time.time()\n",
    "combineRDD = (wordCountRDD.cartesian(wordCountRDD).filter(lambda x: x[0][0] <= x[1][0]).map(combinations_func).filter(lambda x: x[2]>0))\n",
    "result = combineRDD.collect()\n",
    "num = combineRDD.count()\n",
    "end = time.time()\n",
    "print(\"Time processing(s): \", end-start)\n",
    "print(\"Number of combinations: \", num)\n",
    "print(\"First pair: \", result[0])"
   ]
  },
  {
   "cell_type": "markdown",
   "metadata": {},
   "source": [
    "+ Sort by number of appearances\n",
    "+ The median pos is the middle position (there may be 2 but for default I will take only one)\n",
    "+ Convert the sorted rdd to list and the elements at median pos is the result "
   ]
  },
  {
   "cell_type": "code",
   "execution_count": 13,
   "metadata": {},
   "outputs": [
    {
     "name": "stdout",
     "output_type": "stream",
     "text": [
      "Time processing(s):  36.370278120040894\n",
      "('feature', 'typing', 1)\n"
     ]
    }
   ],
   "source": [
    "#5. Print the two combined words that are the median in term of number of the appearances.\n",
    "start = time.time()\n",
    "sortCombineRDD = combineRDD.sortBy(lambda x: x[2])\n",
    "median_pos = sortCombineRDD.count()/2\n",
    "result = (sortCombineRDD.collect())[int(median_pos)]\n",
    "end = time.time()\n",
    "print(\"Time processing(s): \", end-start)\n",
    "print(result)"
   ]
  },
  {
   "cell_type": "markdown",
   "metadata": {},
   "source": [
    "#WORKING WITH BIG FILE (1.1GB)\n",
    "The step is the same from question 1->question 3. In the question 4, I tried to imitate the triagular matrix\n",
    "\n",
    "####\n",
    "I DON'T RUN THIS AGAIN BECAUSE IT'S TOO EXPENSIVE TO RUN"
   ]
  },
  {
   "cell_type": "markdown",
   "metadata": {},
   "source": [
    "The big file in in data_big folder"
   ]
  },
  {
   "cell_type": "code",
   "execution_count": 14,
   "metadata": {},
   "outputs": [],
   "source": [
    "# lineRDD = (sc\n",
    "#           .textFile(\"hdfs://yarnmaster:9000/data_big\",8))"
   ]
  },
  {
   "attachments": {},
   "cell_type": "markdown",
   "metadata": {},
   "source": [
    "The word count processing is pretty much the same with above.\n",
    "However, I see that there are lot of error words and meanningless word that we are not interested in\n",
    "So I filter out the word that has more than 15 letters.\n",
    "\n",
    "There are many word that not in ascii. However when we sort the RDD, they will be at bottom of the list. So we just need to discard some words at the bottom. (I don't do the remove because they make up very low percentage of the list)\n",
    "\n",
    "I also tried to choose words that in dictionary using nltk. But that is too slow and too many useful words are discarded. So I have no way to solve this.\n",
    "\n",
    "\n"
   ]
  },
  {
   "cell_type": "code",
   "execution_count": 15,
   "metadata": {},
   "outputs": [],
   "source": [
    "# import time\n",
    "# start = time.time()\n",
    "# #1. Count the number of times a word appears in the file\n",
    "# filteredRDD = (lineRDD\n",
    "#                .map(lambda x: x.lower())\n",
    "#                .map(removePunctuation)\n",
    "#                .flatMap(lambda x: x.split())\n",
    "#                .filter(isNotStopWord)\n",
    "#                .filter(lambda x: x.isalpha())\n",
    "#                .filter(lambda x: len(x)>1 and len(x)<15)\n",
    "#               )\n",
    "# wordCountRDD = (filteredRDD\n",
    "#                .map(lambda x: (x,1))\n",
    "#                .reduceByKey(lambda a, b: a +b).sortBy(lambda x: x[0]))\n",
    "# result = wordCountRDD.collect()\n",
    "# num = wordCountRDD.count()\n",
    "# end = time.time()\n",
    "# print(\"Time processing(s): \", end-start)\n",
    "# print(\"Number of words: \", num)\n",
    "# print(\"First word: \", result[0])"
   ]
  },
  {
   "attachments": {
    "image.png": {
     "image/png": "[encoded data removed]"
    }
   },
   "cell_type": "markdown",
   "metadata": {},
   "source": [
    "![image.png](attachment:image.png)"
   ]
  },
  {
   "cell_type": "code",
   "execution_count": 16,
   "metadata": {},
   "outputs": [],
   "source": [
    "# print(\"The last words that doesn't contain non ascii character:\", result[2735987])\n",
    "# print('Next word is:'result[2735988])"
   ]
  },
  {
   "attachments": {
    "image.png": {
     "image/png": "[encoded data removed]"
    }
   },
   "cell_type": "markdown",
   "metadata": {},
   "source": [
    "![image.png](attachment:image.png)"
   ]
  },
  {
   "cell_type": "markdown",
   "metadata": {},
   "source": [
    "Because the number of words is too huge. I map the result array into a new RDD."
   ]
  },
  {
   "cell_type": "code",
   "execution_count": 17,
   "metadata": {},
   "outputs": [],
   "source": [
    "# freqRDD = sc.parallelize(result, 8)"
   ]
  },
  {
   "cell_type": "code",
   "execution_count": 18,
   "metadata": {},
   "outputs": [],
   "source": [
    "# # 2. Calculate the most common words in the file\n",
    "# import time\n",
    "# start = time.time()\n",
    "# max_ele = freqRDD.max(lambda x:x[1])\n",
    "# end = time.time()\n",
    "# print(\"Time processing(s): \", end-start)\n",
    "# print(max_ele)"
   ]
  },
  {
   "attachments": {
    "image.png": {
     "image/png": "[encoded data removed]"
    }
   },
   "cell_type": "markdown",
   "metadata": {},
   "source": [
    "![image.png](attachment:image.png)"
   ]
  },
  {
   "cell_type": "code",
   "execution_count": 19,
   "metadata": {},
   "outputs": [],
   "source": [
    "# # 3. Calculate the average number of appearances of all words.\n",
    "# start = time.time()\n",
    "# from operator import add\n",
    "# uniqueWordCount = freqRDD.count()\n",
    "# totalWordCount = freqRDD.map(lambda x: x[1]).reduce(add)\n",
    "# totalWordCount/uniqueWordCount\n",
    "# end = time.time()\n",
    "# print(\"Time processing(s): \", end-start)\n",
    "# print(totalWordCount/uniqueWordCount)"
   ]
  },
  {
   "attachments": {
    "image.png": {
     "image/png": "[encoded data removed]"
    }
   },
   "cell_type": "markdown",
   "metadata": {},
   "source": [
    "![image.png](attachment:image.png)"
   ]
  },
  {
   "cell_type": "code",
   "execution_count": 21,
   "metadata": {},
   "outputs": [],
   "source": [
    "# 4. Calculate the frequency of combination of two words appears in the text file\n",
    "# print(\"Number of words: \",uniqueWordCount)\n",
    "# print(\"Maximun number of possible combinations: \", uniqueWordCount*uniqueWordCount/2)"
   ]
  },
  {
   "attachments": {
    "image.png": {
     "image/png": "[encoded data removed]"
    }
   },
   "cell_type": "markdown",
   "metadata": {},
   "source": [
    "There are over 3.7 thousand billions combinations -> there is no way cartesian can solve this\n",
    "\n",
    "![image.png](attachment:image.png)\n",
    "As I see that most of the words that appears only 1 times is not very useful and they make up large percentage -> So we can try remove it to reduce the combination."
   ]
  },
  {
   "cell_type": "code",
   "execution_count": 22,
   "metadata": {},
   "outputs": [],
   "source": [
    "# uselessWord = freqRDD.filter(lambda x: x[1]>1).count()\n",
    "# print(\"Number of words: \", uselessWord)\n",
    "# print(\"Number of possible combinations: \", uselessWord*uselessWord/2)"
   ]
  },
  {
   "attachments": {
    "image.png": {
     "image/png": "[encoded data removed]"
    }
   },
   "cell_type": "markdown",
   "metadata": {},
   "source": [
    "![image.png](attachment:image.png)\n",
    "\n",
    "We can see that the number of combinations reduced by 10 times. That is more doable.\n",
    "\n",
    "The method I do to solve this is:\n",
    "+ Map sorted by key (key,val) list to (val) list => I see that the order remains so I think this is ok.\n",
    "+ Saved (val) list into freq\n",
    "+ Create RDD of n(n-1)/2 elements\n",
    "+ We do mapping on new RDD that x = freq[i] * freq[j] or freq[i] * (freq[i]-1)/2 (with i = x/uniqueWordCount, j = x%uniqueWordCount)"
   ]
  },
  {
   "cell_type": "code",
   "execution_count": 73,
   "metadata": {},
   "outputs": [],
   "source": [
    "# def map_func(x):\n",
    "#     i = int(x/uniqueWordCount)\n",
    "#     j = x%uniqueWordCount\n",
    "#     if i == j:\n",
    "#         x = freq[i]*(freq[i]-1)/2\n",
    "#     else:\n",
    "#         x = freq[i] * freq[j]\n",
    "#     return x"
   ]
  },
  {
   "cell_type": "code",
   "execution_count": 72,
   "metadata": {},
   "outputs": [
    {
     "name": "stdout",
     "output_type": "stream",
     "text": [
      "freq[0]= 5151\n"
     ]
    }
   ],
   "source": [
    "# combRDD =  freqRDD.map(lambda x: x[1]).filter(lambda x: x>1)\n",
    "# uniqueWordCount = combRDD.count()\n",
    "# numCombinations = int(uniqueWordCount/2)*(uniqueWordCount+1)\n",
    "# combination = range(0,numCombinations) # new list of numCombinations elements\n",
    "# combinationRDD = sc.parallelize(combination,8)  # convert to RDD\n",
    "# freq = combRDD.collect() # Freq list\n",
    "# print(\"freq[0]=\",freq[0])"
   ]
  },
  {
   "attachments": {
    "image.png": {
     "image/png": "[encoded data removed]"
    }
   },
   "cell_type": "markdown",
   "metadata": {},
   "source": [
    "![image.png](attachment:image.png)"
   ]
  },
  {
   "cell_type": "code",
   "execution_count": 74,
   "metadata": {},
   "outputs": [
    {
     "ename": "Py4JJavaError",
     "evalue": "An error occurred while calling z:org.apache.spark.api.python.PythonRDD.collectAndServe.\n: org.apache.spark.SparkException: Job aborted due to stage failure: Task 0 in stage 73.0 failed 4 times, most recent failure: Lost task 0.3 in stage 73.0 (TID 780, yarnslave2, executor 6): ExecutorLostFailure (executor 6 exited caused by one of the running tasks) Reason: Container from a bad node: container_1635314650127_0004_02_000003 on host: yarnslave2. Exit status: 143. Diagnostics: [2021-10-27 08:52:26.773]Container killed on request. Exit code is 143\n[2021-10-27 08:52:26.773]Container exited with a non-zero exit code 143. \n[2021-10-27 08:52:26.775]Killed by external signal\n.\nDriver stacktrace:\n\tat org.apache.spark.scheduler.DAGScheduler.failJobAndIndependentStages(DAGScheduler.scala:2059)\n\tat org.apache.spark.scheduler.DAGScheduler.$anonfun$abortStage$2(DAGScheduler.scala:2008)\n\tat org.apache.spark.scheduler.DAGScheduler.$anonfun$abortStage$2$adapted(DAGScheduler.scala:2007)\n\tat scala.collection.mutable.ResizableArray.foreach(ResizableArray.scala:62)\n\tat scala.collection.mutable.ResizableArray.foreach$(ResizableArray.scala:55)\n\tat scala.collection.mutable.ArrayBuffer.foreach(ArrayBuffer.scala:49)\n\tat org.apache.spark.scheduler.DAGScheduler.abortStage(DAGScheduler.scala:2007)\n\tat org.apache.spark.scheduler.DAGScheduler.$anonfun$handleTaskSetFailed$1(DAGScheduler.scala:973)\n\tat org.apache.spark.scheduler.DAGScheduler.$anonfun$handleTaskSetFailed$1$adapted(DAGScheduler.scala:973)\n\tat scala.Option.foreach(Option.scala:407)\n\tat org.apache.spark.scheduler.DAGScheduler.handleTaskSetFailed(DAGScheduler.scala:973)\n\tat org.apache.spark.scheduler.DAGSchedulerEventProcessLoop.doOnReceive(DAGScheduler.scala:2239)\n\tat org.apache.spark.scheduler.DAGSchedulerEventProcessLoop.onReceive(DAGScheduler.scala:2188)\n\tat org.apache.spark.scheduler.DAGSchedulerEventProcessLoop.onReceive(DAGScheduler.scala:2177)\n\tat org.apache.spark.util.EventLoop$$anon$1.run(EventLoop.scala:49)\n\tat org.apache.spark.scheduler.DAGScheduler.runJob(DAGScheduler.scala:775)\n\tat org.apache.spark.SparkContext.runJob(SparkContext.scala:2114)\n\tat org.apache.spark.SparkContext.runJob(SparkContext.scala:2135)\n\tat org.apache.spark.SparkContext.runJob(SparkContext.scala:2154)\n\tat org.apache.spark.SparkContext.runJob(SparkContext.scala:2179)\n\tat org.apache.spark.rdd.RDD.$anonfun$collect$1(RDD.scala:1004)\n\tat org.apache.spark.rdd.RDDOperationScope$.withScope(RDDOperationScope.scala:151)\n\tat org.apache.spark.rdd.RDDOperationScope$.withScope(RDDOperationScope.scala:112)\n\tat org.apache.spark.rdd.RDD.withScope(RDD.scala:388)\n\tat org.apache.spark.rdd.RDD.collect(RDD.scala:1003)\n\tat org.apache.spark.api.python.PythonRDD$.collectAndServe(PythonRDD.scala:168)\n\tat org.apache.spark.api.python.PythonRDD.collectAndServe(PythonRDD.scala)\n\tat sun.reflect.GeneratedMethodAccessor42.invoke(Unknown Source)\n\tat sun.reflect.DelegatingMethodAccessorImpl.invoke(DelegatingMethodAccessorImpl.java:43)\n\tat java.lang.reflect.Method.invoke(Method.java:498)\n\tat py4j.reflection.MethodInvoker.invoke(MethodInvoker.java:244)\n\tat py4j.reflection.ReflectionEngine.invoke(ReflectionEngine.java:357)\n\tat py4j.Gateway.invoke(Gateway.java:282)\n\tat py4j.commands.AbstractCommand.invokeMethod(AbstractCommand.java:132)\n\tat py4j.commands.CallCommand.execute(CallCommand.java:79)\n\tat py4j.GatewayConnection.run(GatewayConnection.java:238)\n\tat java.lang.Thread.run(Thread.java:748)\n",
     "output_type": "error",
     "traceback": [
      "\u001b[0;31m---------------------------------------------------------------------------\u001b[0m",
      "\u001b[0;31mPy4JJavaError\u001b[0m                             Traceback (most recent call last)",
      "\u001b[0;32m<ipython-input-74-d6b2d76eed58>\u001b[0m in \u001b[0;36m<module>\u001b[0;34m\u001b[0m\n\u001b[1;32m      1\u001b[0m \u001b[0mstart\u001b[0m \u001b[0;34m=\u001b[0m \u001b[0mtime\u001b[0m\u001b[0;34m.\u001b[0m\u001b[0mtime\u001b[0m\u001b[0;34m(\u001b[0m\u001b[0;34m)\u001b[0m\u001b[0;34m\u001b[0m\u001b[0;34m\u001b[0m\u001b[0m\n\u001b[0;32m----> 2\u001b[0;31m \u001b[0mresult\u001b[0m \u001b[0;34m=\u001b[0m \u001b[0mcombinationRDD\u001b[0m\u001b[0;34m.\u001b[0m\u001b[0mmap\u001b[0m\u001b[0;34m(\u001b[0m\u001b[0mmap_func\u001b[0m\u001b[0;34m)\u001b[0m\u001b[0;34m.\u001b[0m\u001b[0mcollect\u001b[0m\u001b[0;34m(\u001b[0m\u001b[0;34m)\u001b[0m\u001b[0;34m\u001b[0m\u001b[0;34m\u001b[0m\u001b[0m\n\u001b[0m\u001b[1;32m      3\u001b[0m \u001b[0mend\u001b[0m \u001b[0;34m=\u001b[0m \u001b[0mtime\u001b[0m\u001b[0;34m.\u001b[0m\u001b[0mtime\u001b[0m\u001b[0;34m(\u001b[0m\u001b[0;34m)\u001b[0m\u001b[0;34m\u001b[0m\u001b[0;34m\u001b[0m\u001b[0m\n\u001b[1;32m      4\u001b[0m \u001b[0mprint\u001b[0m\u001b[0;34m(\u001b[0m\u001b[0;34m\"Time processing(s): \"\u001b[0m\u001b[0;34m,\u001b[0m \u001b[0mend\u001b[0m\u001b[0;34m-\u001b[0m\u001b[0mstart\u001b[0m\u001b[0;34m)\u001b[0m\u001b[0;34m\u001b[0m\u001b[0;34m\u001b[0m\u001b[0m\n\u001b[1;32m      5\u001b[0m \u001b[0mprint\u001b[0m\u001b[0;34m(\u001b[0m\u001b[0mresult\u001b[0m\u001b[0;34m[\u001b[0m\u001b[0;36m0\u001b[0m\u001b[0;34m]\u001b[0m\u001b[0;34m)\u001b[0m\u001b[0;34m\u001b[0m\u001b[0;34m\u001b[0m\u001b[0m\n",
      "\u001b[0;32m/usr/local/spark/python/pyspark/rdd.py\u001b[0m in \u001b[0;36mcollect\u001b[0;34m(self)\u001b[0m\n\u001b[1;32m    887\u001b[0m         \"\"\"\n\u001b[1;32m    888\u001b[0m         \u001b[0;32mwith\u001b[0m \u001b[0mSCCallSiteSync\u001b[0m\u001b[0;34m(\u001b[0m\u001b[0mself\u001b[0m\u001b[0;34m.\u001b[0m\u001b[0mcontext\u001b[0m\u001b[0;34m)\u001b[0m \u001b[0;32mas\u001b[0m \u001b[0mcss\u001b[0m\u001b[0;34m:\u001b[0m\u001b[0;34m\u001b[0m\u001b[0;34m\u001b[0m\u001b[0m\n\u001b[0;32m--> 889\u001b[0;31m             \u001b[0msock_info\u001b[0m \u001b[0;34m=\u001b[0m \u001b[0mself\u001b[0m\u001b[0;34m.\u001b[0m\u001b[0mctx\u001b[0m\u001b[0;34m.\u001b[0m\u001b[0m_jvm\u001b[0m\u001b[0;34m.\u001b[0m\u001b[0mPythonRDD\u001b[0m\u001b[0;34m.\u001b[0m\u001b[0mcollectAndServe\u001b[0m\u001b[0;34m(\u001b[0m\u001b[0mself\u001b[0m\u001b[0;34m.\u001b[0m\u001b[0m_jrdd\u001b[0m\u001b[0;34m.\u001b[0m\u001b[0mrdd\u001b[0m\u001b[0;34m(\u001b[0m\u001b[0;34m)\u001b[0m\u001b[0;34m)\u001b[0m\u001b[0;34m\u001b[0m\u001b[0;34m\u001b[0m\u001b[0m\n\u001b[0m\u001b[1;32m    890\u001b[0m         \u001b[0;32mreturn\u001b[0m \u001b[0mlist\u001b[0m\u001b[0;34m(\u001b[0m\u001b[0m_load_from_socket\u001b[0m\u001b[0;34m(\u001b[0m\u001b[0msock_info\u001b[0m\u001b[0;34m,\u001b[0m \u001b[0mself\u001b[0m\u001b[0;34m.\u001b[0m\u001b[0m_jrdd_deserializer\u001b[0m\u001b[0;34m)\u001b[0m\u001b[0;34m)\u001b[0m\u001b[0;34m\u001b[0m\u001b[0;34m\u001b[0m\u001b[0m\n\u001b[1;32m    891\u001b[0m \u001b[0;34m\u001b[0m\u001b[0m\n",
      "\u001b[0;32m~/miniconda3/envs/spark/lib/python3.6/site-packages/py4j/java_gateway.py\u001b[0m in \u001b[0;36m__call__\u001b[0;34m(self, *args)\u001b[0m\n\u001b[1;32m   1303\u001b[0m         \u001b[0manswer\u001b[0m \u001b[0;34m=\u001b[0m \u001b[0mself\u001b[0m\u001b[0;34m.\u001b[0m\u001b[0mgateway_client\u001b[0m\u001b[0;34m.\u001b[0m\u001b[0msend_command\u001b[0m\u001b[0;34m(\u001b[0m\u001b[0mcommand\u001b[0m\u001b[0;34m)\u001b[0m\u001b[0;34m\u001b[0m\u001b[0;34m\u001b[0m\u001b[0m\n\u001b[1;32m   1304\u001b[0m         return_value = get_return_value(\n\u001b[0;32m-> 1305\u001b[0;31m             answer, self.gateway_client, self.target_id, self.name)\n\u001b[0m\u001b[1;32m   1306\u001b[0m \u001b[0;34m\u001b[0m\u001b[0m\n\u001b[1;32m   1307\u001b[0m         \u001b[0;32mfor\u001b[0m \u001b[0mtemp_arg\u001b[0m \u001b[0;32min\u001b[0m \u001b[0mtemp_args\u001b[0m\u001b[0;34m:\u001b[0m\u001b[0;34m\u001b[0m\u001b[0;34m\u001b[0m\u001b[0m\n",
      "\u001b[0;32m~/miniconda3/envs/spark/lib/python3.6/site-packages/py4j/protocol.py\u001b[0m in \u001b[0;36mget_return_value\u001b[0;34m(answer, gateway_client, target_id, name)\u001b[0m\n\u001b[1;32m    326\u001b[0m                 raise Py4JJavaError(\n\u001b[1;32m    327\u001b[0m                     \u001b[0;34m\"An error occurred while calling {0}{1}{2}.\\n\"\u001b[0m\u001b[0;34m.\u001b[0m\u001b[0;34m\u001b[0m\u001b[0;34m\u001b[0m\u001b[0m\n\u001b[0;32m--> 328\u001b[0;31m                     format(target_id, \".\", name), value)\n\u001b[0m\u001b[1;32m    329\u001b[0m             \u001b[0;32melse\u001b[0m\u001b[0;34m:\u001b[0m\u001b[0;34m\u001b[0m\u001b[0;34m\u001b[0m\u001b[0m\n\u001b[1;32m    330\u001b[0m                 raise Py4JError(\n",
      "\u001b[0;31mPy4JJavaError\u001b[0m: An error occurred while calling z:org.apache.spark.api.python.PythonRDD.collectAndServe.\n: org.apache.spark.SparkException: Job aborted due to stage failure: Task 0 in stage 73.0 failed 4 times, most recent failure: Lost task 0.3 in stage 73.0 (TID 780, yarnslave2, executor 6): ExecutorLostFailure (executor 6 exited caused by one of the running tasks) Reason: Container from a bad node: container_1635314650127_0004_02_000003 on host: yarnslave2. Exit status: 143. Diagnostics: [2021-10-27 08:52:26.773]Container killed on request. Exit code is 143\n[2021-10-27 08:52:26.773]Container exited with a non-zero exit code 143. \n[2021-10-27 08:52:26.775]Killed by external signal\n.\nDriver stacktrace:\n\tat org.apache.spark.scheduler.DAGScheduler.failJobAndIndependentStages(DAGScheduler.scala:2059)\n\tat org.apache.spark.scheduler.DAGScheduler.$anonfun$abortStage$2(DAGScheduler.scala:2008)\n\tat org.apache.spark.scheduler.DAGScheduler.$anonfun$abortStage$2$adapted(DAGScheduler.scala:2007)\n\tat scala.collection.mutable.ResizableArray.foreach(ResizableArray.scala:62)\n\tat scala.collection.mutable.ResizableArray.foreach$(ResizableArray.scala:55)\n\tat scala.collection.mutable.ArrayBuffer.foreach(ArrayBuffer.scala:49)\n\tat org.apache.spark.scheduler.DAGScheduler.abortStage(DAGScheduler.scala:2007)\n\tat org.apache.spark.scheduler.DAGScheduler.$anonfun$handleTaskSetFailed$1(DAGScheduler.scala:973)\n\tat org.apache.spark.scheduler.DAGScheduler.$anonfun$handleTaskSetFailed$1$adapted(DAGScheduler.scala:973)\n\tat scala.Option.foreach(Option.scala:407)\n\tat org.apache.spark.scheduler.DAGScheduler.handleTaskSetFailed(DAGScheduler.scala:973)\n\tat org.apache.spark.scheduler.DAGSchedulerEventProcessLoop.doOnReceive(DAGScheduler.scala:2239)\n\tat org.apache.spark.scheduler.DAGSchedulerEventProcessLoop.onReceive(DAGScheduler.scala:2188)\n\tat org.apache.spark.scheduler.DAGSchedulerEventProcessLoop.onReceive(DAGScheduler.scala:2177)\n\tat org.apache.spark.util.EventLoop$$anon$1.run(EventLoop.scala:49)\n\tat org.apache.spark.scheduler.DAGScheduler.runJob(DAGScheduler.scala:775)\n\tat org.apache.spark.SparkContext.runJob(SparkContext.scala:2114)\n\tat org.apache.spark.SparkContext.runJob(SparkContext.scala:2135)\n\tat org.apache.spark.SparkContext.runJob(SparkContext.scala:2154)\n\tat org.apache.spark.SparkContext.runJob(SparkContext.scala:2179)\n\tat org.apache.spark.rdd.RDD.$anonfun$collect$1(RDD.scala:1004)\n\tat org.apache.spark.rdd.RDDOperationScope$.withScope(RDDOperationScope.scala:151)\n\tat org.apache.spark.rdd.RDDOperationScope$.withScope(RDDOperationScope.scala:112)\n\tat org.apache.spark.rdd.RDD.withScope(RDD.scala:388)\n\tat org.apache.spark.rdd.RDD.collect(RDD.scala:1003)\n\tat org.apache.spark.api.python.PythonRDD$.collectAndServe(PythonRDD.scala:168)\n\tat org.apache.spark.api.python.PythonRDD.collectAndServe(PythonRDD.scala)\n\tat sun.reflect.GeneratedMethodAccessor42.invoke(Unknown Source)\n\tat sun.reflect.DelegatingMethodAccessorImpl.invoke(DelegatingMethodAccessorImpl.java:43)\n\tat java.lang.reflect.Method.invoke(Method.java:498)\n\tat py4j.reflection.MethodInvoker.invoke(MethodInvoker.java:244)\n\tat py4j.reflection.ReflectionEngine.invoke(ReflectionEngine.java:357)\n\tat py4j.Gateway.invoke(Gateway.java:282)\n\tat py4j.commands.AbstractCommand.invokeMethod(AbstractCommand.java:132)\n\tat py4j.commands.CallCommand.execute(CallCommand.java:79)\n\tat py4j.GatewayConnection.run(GatewayConnection.java:238)\n\tat java.lang.Thread.run(Thread.java:748)\n"
     ]
    }
   ],
   "source": [
    "# start = time.time()\n",
    "# result = combinationRDD.map(map_func).collect()\n",
    "# end = time.time()\n",
    "# print(\"Time processing(s): \", end-start)\n",
    "# print(result[0])"
   ]
  },
  {
   "cell_type": "markdown",
   "metadata": {},
   "source": [
    "I've got memory problem on this and unable to get result. But I think this will work ok if I have better machine."
   ]
  },
  {
   "cell_type": "markdown",
   "metadata": {},
   "source": []
  },
  {
   "cell_type": "markdown",
   "metadata": {},
   "source": [
    "#5. Print the two combined words that are the median in term of number of the appearances.\n",
    "It is easy if we only find the median of words that appear more than 1 times -> It is the same with small file.\n",
    "If we want to obtain all words, I think it would relate to some math.\n",
    "\n",
    "We have list count of over 370 billions and there are remained about 3330 billions combinations we haven't calculated.\n",
    "+ 2 words appeared one time -> appear 1 time. (= 1872096*1872095/2 combs)\n",
    "+ 1 words appeared 1 time and other appeared n -> appear n times. (1872096*871322 combs)\n",
    "...."
   ]
  },
  {
   "cell_type": "code",
   "execution_count": null,
   "metadata": {},
   "outputs": [],
   "source": []
  }
 ],
 "metadata": {
  "kernelspec": {
   "display_name": "Python 3",
   "language": "python",
   "name": "python3"
  },
  "language_info": {
   "codemirror_mode": {
    "name": "ipython",
    "version": 3
   },
   "file_extension": ".py",
   "mimetype": "text/x-python",
   "name": "python",
   "nbconvert_exporter": "python",
   "pygments_lexer": "ipython3",
   "version": "3.6.9"
  }
 },
 "nbformat": 4,
 "nbformat_minor": 4
}
