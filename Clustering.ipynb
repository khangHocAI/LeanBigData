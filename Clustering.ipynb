{
 "cells": [
  {
   "cell_type": "code",
   "execution_count": 1,
   "metadata": {},
   "outputs": [],
   "source": [
    "from pyspark import SparkContext, SparkConf\n",
    "conf=SparkConf().setMaster('yarn').setAppName(\"Lab5\")\n",
    "conf.set(\"spark.executor.memory\", \"4g\")\n",
    "conf.set(\"spark.driver.memory\", \"4g\")\n",
    "conf.set(\"spark.cores.max\", \"2\")\n",
    "conf.set(\"spark.yarn.dist.archives\",\"spark.tar.gz#environment\")\n",
    "import os\n",
    "os.environ['PYSPARK_PYTHON'] = \"environment/bin/python\"\n",
    "sc=SparkContext(conf=conf)\n",
    "import numpy as np"
   ]
  },
  {
   "cell_type": "code",
   "execution_count": 2,
   "metadata": {},
   "outputs": [
    {
     "data": {
      "text/html": [
       "\n",
       "        <div>\n",
       "            <p><b>SparkContext</b></p>\n",
       "\n",
       "            <p><a href=\"http://edge:4050\">Spark UI</a></p>\n",
       "\n",
       "            <dl>\n",
       "              <dt>Version</dt>\n",
       "                <dd><code>v3.0.3</code></dd>\n",
       "              <dt>Master</dt>\n",
       "                <dd><code>yarn</code></dd>\n",
       "              <dt>AppName</dt>\n",
       "                <dd><code>Lab5</code></dd>\n",
       "            </dl>\n",
       "        </div>\n",
       "        "
      ],
      "text/plain": [
       "<SparkContext master=yarn appName=Lab5>"
      ]
     },
     "execution_count": 2,
     "metadata": {},
     "output_type": "execute_result"
    }
   ],
   "source": [
    "sc"
   ]
  },
  {
   "cell_type": "markdown",
   "metadata": {},
   "source": [
    "# DATA PREPARATION"
   ]
  },
  {
   "cell_type": "code",
   "execution_count": 3,
   "metadata": {},
   "outputs": [],
   "source": [
    "# read the data\n",
    "rawRDD = (sc.textFile(\"hdfs://yarnmaster:9000/country_data\",8))"
   ]
  },
  {
   "cell_type": "code",
   "execution_count": 4,
   "metadata": {},
   "outputs": [
    {
     "data": {
      "text/plain": [
       "['country,child_mort,exports,health,imports,income,inflation,life_expec,total_fer,gdpp']"
      ]
     },
     "execution_count": 4,
     "metadata": {},
     "output_type": "execute_result"
    }
   ],
   "source": [
    "# Display the header of the data\n",
    "rawRDD.take(1)"
   ]
  },
  {
   "cell_type": "code",
   "execution_count": 5,
   "metadata": {},
   "outputs": [
    {
     "name": "stdout",
     "output_type": "stream",
     "text": [
      "['Bosnia and Herzegovina,6.9,29.7,11.1,51.3,9720,1.4,76.8,1.31,4610', 'Comoros,88.2,16.5,4.51,51.7,1410,3.87,65.9,4.75,769', '\"Congo, Dem. Rep.\",116,41.1,7.91,49.6,609,20.8,57.5,6.54,334', 'Costa Rica,10.2,33.2,10.9,35,13000,6.57,80.4,1.92,8200', 'Egypt,29.1,21.3,4.66,26.6,9860,10.1,70.5,3.19,2600']\n",
      "CPU times: user 24.3 ms, sys: 0 ns, total: 24.3 ms\n",
      "Wall time: 2.36 s\n"
     ]
    }
   ],
   "source": [
    "%%time\n",
    "# remove header and show the first 05 rows\n",
    "tagsheader = rawRDD.first()\n",
    "header = sc.parallelize([tagsheader])\n",
    "nonHeaderRDD = rawRDD.subtract(header)\n",
    "print(nonHeaderRDD.take(5))"
   ]
  },
  {
   "cell_type": "code",
   "execution_count": 6,
   "metadata": {},
   "outputs": [
    {
     "data": {
      "text/plain": [
       "[['Bosnia and Herzegovina',\n",
       "  6.9,\n",
       "  29.7,\n",
       "  11.1,\n",
       "  51.3,\n",
       "  9720.0,\n",
       "  1.4,\n",
       "  76.8,\n",
       "  1.31,\n",
       "  4610.0],\n",
       " ['Comoros', 88.2, 16.5, 4.51, 51.7, 1410.0, 3.87, 65.9, 4.75, 769.0],\n",
       " ['Congo, Dem. Rep.', 116.0, 41.1, 7.91, 49.6, 609.0, 20.8, 57.5, 6.54, 334.0],\n",
       " ['Costa Rica', 10.2, 33.2, 10.9, 35.0, 13000.0, 6.57, 80.4, 1.92, 8200.0],\n",
       " ['Egypt', 29.1, 21.3, 4.66, 26.6, 9860.0, 10.1, 70.5, 3.19, 2600.0]]"
      ]
     },
     "execution_count": 6,
     "metadata": {},
     "output_type": "execute_result"
    }
   ],
   "source": [
    "def splitFunc(x):\n",
    "    if x[0] == '\"':\n",
    "        split_1 = x.split('\"')\n",
    "        splitted = [10]\n",
    "        splitted[0] = split_1[1]\n",
    "        splitted.extend(split_1[2].split(',')[1:])\n",
    "    else:\n",
    "        splitted = x.split(',')\n",
    "        \n",
    "    for i in range (1,10):\n",
    "        splitted[i] = float(splitted[i])\n",
    "    return splitted\n",
    "\n",
    "splittedRDD = nonHeaderRDD.map(splitFunc)\n",
    "dataWithCountry = splittedRDD.collect()\n",
    "dataWithCountry[:5]"
   ]
  },
  {
   "cell_type": "code",
   "execution_count": 7,
   "metadata": {},
   "outputs": [
    {
     "data": {
      "text/plain": [
       "[[6.9, 29.7, 11.1, 51.3, 9720.0, 1.4, 76.8, 1.31, 4610.0],\n",
       " [88.2, 16.5, 4.51, 51.7, 1410.0, 3.87, 65.9, 4.75, 769.0],\n",
       " [116.0, 41.1, 7.91, 49.6, 609.0, 20.8, 57.5, 6.54, 334.0],\n",
       " [10.2, 33.2, 10.9, 35.0, 13000.0, 6.57, 80.4, 1.92, 8200.0],\n",
       " [29.1, 21.3, 4.66, 26.6, 9860.0, 10.1, 70.5, 3.19, 2600.0]]"
      ]
     },
     "execution_count": 7,
     "metadata": {},
     "output_type": "execute_result"
    }
   ],
   "source": [
    "data = []\n",
    "country = []\n",
    "for row in dataWithCountry:\n",
    "    data.append(row[1:])\n",
    "    country.append(row[0])\n",
    "data[0:5]"
   ]
  },
  {
   "cell_type": "markdown",
   "metadata": {},
   "source": [
    "Normalization"
   ]
  },
  {
   "cell_type": "code",
   "execution_count": 8,
   "metadata": {},
   "outputs": [],
   "source": [
    "from sklearn.preprocessing import StandardScaler\n",
    "scaler =StandardScaler()\n",
    "data_scaled= np.around(scaler.fit_transform(data), 3)\n"
   ]
  },
  {
   "cell_type": "code",
   "execution_count": 9,
   "metadata": {},
   "outputs": [],
   "source": [
    "Nof_clusters = 6 # I found that 6 is better for this small dataset\n",
    "dataWithCountry = []\n",
    "scaledRDD = sc.parallelize(data_scaled,8)\n",
    "### We only care about 3 features gdpp, child_mort, income\n",
    "scaledRDD = scaledRDD.map(lambda x: np.array([x[0],x[4],x[8]]))\n",
    "data_scaled = scaledRDD.collect()"
   ]
  },
  {
   "cell_type": "markdown",
   "metadata": {},
   "source": [
    "# DISTRIBUTED KMEANS\n",
    "ref: https://github.com/apache/spark/blob/master/examples/src/main/python/kmeans.py"
   ]
  },
  {
   "cell_type": "code",
   "execution_count": 10,
   "metadata": {},
   "outputs": [],
   "source": [
    "def closestPoint(p, centers):\n",
    "    bestIndex = 0\n",
    "    closest = float(\"+inf\")\n",
    "    for i in range(len(centers)):\n",
    "        tempDist = np.linalg.norm(p - centers[i])\n",
    "        if tempDist < closest:\n",
    "            closest = tempDist\n",
    "            bestIndex = i\n",
    "    return bestIndex"
   ]
  },
  {
   "cell_type": "code",
   "execution_count": 11,
   "metadata": {},
   "outputs": [],
   "source": [
    "centroidsList = scaledRDD.takeSample(False, Nof_clusters, 1)"
   ]
  },
  {
   "cell_type": "code",
   "execution_count": 12,
   "metadata": {},
   "outputs": [],
   "source": [
    "tempDist = 1.0\n",
    "convergeDist = 0.1\n",
    "while tempDist > convergeDist:\n",
    "    closest = scaledRDD.map(\n",
    "            lambda p: (closestPoint(p, centroidsList), (p, 1)))\n",
    "    pointStats = closest.reduceByKey(\n",
    "            lambda p1_c1, p2_c2: (p1_c1[0] + p2_c2[0], p1_c1[1] + p2_c2[1]))\n",
    "    newPoints = pointStats.map(\n",
    "            lambda st: (st[0], st[1][0] / st[1][1])).collect()\n",
    "\n",
    "    tempDist = sum(np.sum((centroidsList[iK] - p) ** 2) for (iK, p) in newPoints)\n",
    "\n",
    "    for (iK, p) in newPoints:\n",
    "            centroidsList[iK] = p\n"
   ]
  },
  {
   "cell_type": "code",
   "execution_count": 13,
   "metadata": {},
   "outputs": [
    {
     "data": {
      "text/plain": [
       "[array([-0.7485,  2.8215,  1.4165]),\n",
       " array([-0.77423529,  0.73641176,  0.55317647]),\n",
       " array([-0.8305 ,  3.459  ,  3.91075]),\n",
       " array([-0.40370886, -0.30322785, -0.3856962 ]),\n",
       " array([-0.844875 ,  1.2476875,  1.814    ]),\n",
       " array([ 1.38055319, -0.71604255, -0.62270213])]"
      ]
     },
     "execution_count": 13,
     "metadata": {},
     "output_type": "execute_result"
    }
   ],
   "source": [
    "centroidsList"
   ]
  },
  {
   "cell_type": "code",
   "execution_count": 14,
   "metadata": {},
   "outputs": [
    {
     "data": {
      "text/plain": [
       "[(3, (array([-0.78 , -0.386, -0.457]), 1)),\n",
       " (5, (array([ 1.242, -0.819, -0.667]), 1))]"
      ]
     },
     "execution_count": 14,
     "metadata": {},
     "output_type": "execute_result"
    }
   ],
   "source": [
    "closest.take(2)"
   ]
  },
  {
   "cell_type": "markdown",
   "metadata": {},
   "source": [
    "# BFR"
   ]
  },
  {
   "cell_type": "code",
   "execution_count": 15,
   "metadata": {},
   "outputs": [],
   "source": [
    "####init centroids\n",
    "import random\n",
    "def getMinDistance(point, ini_points):\n",
    "    min_dis = 100000\n",
    "    for ip in ini_points:\n",
    "        dis = np.linalg.norm(point-ip)\n",
    "        if dis<8 and dis>4 and dis < min_dis:\n",
    "            min_dis = dis\n",
    "    return min_dis\n",
    "\n",
    "def Euclidean_Clustering(centroids, x):\n",
    "    cluster_index = -1\n",
    "    min_distance = 10000\n",
    "    for i, centroid in enumerate(centroids):\n",
    "        distance = np.linalg.norm(x-centroid)\n",
    "        if distance < euclidean_threshold and distance < min_distance:\n",
    "            min_distance = distance\n",
    "            cluster_index = i \n",
    "    return (cluster_index, x)\n",
    "\n",
    "def getSamplePoints(dataList, n=20):\n",
    "    sampleList = []\n",
    "    sampleListIndex = []\n",
    "    while len(sampleList) < n:\n",
    "        index = random.randint(0,len(data_scaled)-1)\n",
    "        if index not in sampleListIndex:\n",
    "            sampleList.append(dataList[index])\n",
    "            sampleListIndex.append(index)\n",
    "    return sampleList"
   ]
  },
  {
   "cell_type": "markdown",
   "metadata": {},
   "source": [
    "###First pass => Init and find points in discard set\n",
    "+ I want the distance nether too far (<8) nor too close (>3), to make sure that there are always more than 1 point in initCluster\n",
    "+ Initial number of centroids is 8. But because the number of dataset is too small => there are always clusters that only has 1 points => Initialization failed => So I changed number of centroids to 6\n",
    "+ First pass to get points that near clusters in discard set.\n",
    "+ Initial euclidean_threshold = 3 but I found that 2 is better"
   ]
  },
  {
   "cell_type": "code",
   "execution_count": 16,
   "metadata": {},
   "outputs": [
    {
     "name": "stdout",
     "output_type": "stream",
     "text": [
      "Starting initialization phase.... This will run until every clusters have at least 2 points.\n",
      "Init failed\n",
      "Init failed\n",
      "Init failed\n",
      "Init failed\n",
      "Number of nonDiscarded points: 85\n"
     ]
    }
   ],
   "source": [
    "print(\"Starting initialization phase.... This will run until every clusters have at least 2 points.\")\n",
    "\n",
    "while True:\n",
    "    initCentroids = []\n",
    "    discardSet = []\n",
    "    euclidean_threshold = 2\n",
    "    Nof_clusters_BFR = 6\n",
    "    index = random.randint(0,len(data_scaled)-1)\n",
    "    initCentroids.append(data_scaled[index])\n",
    "\n",
    "\n",
    "    while len(initCentroids)< Nof_clusters_BFR:\n",
    "        samplePointsList = getSamplePoints(data_scaled)\n",
    "        max_distance = 0\n",
    "        point_has_max_distance = samplePointsList[0]\n",
    "        for i, point in enumerate(samplePointsList):\n",
    "            min_distance_to_cluster = getMinDistance(point, initCentroids)\n",
    "            if min_distance_to_cluster<8 and min_distance_to_cluster > max_distance:\n",
    "                max_distance = min_distance_to_cluster\n",
    "                point_has_max_distance = point    \n",
    "        initCentroids.append(point_has_max_distance)\n",
    "\n",
    "    clusteredRDD = scaledRDD.map(lambda x: Euclidean_Clustering(initCentroids,x))\n",
    "    \n",
    "    errorInit = False\n",
    "    for i in range (Nof_clusters_BFR):\n",
    "        cluster = clusteredRDD.filter(lambda x: x[0]==i).collect()\n",
    "        if len(cluster) < 2:\n",
    "            errorInit = True\n",
    "            print(\"Init failed\")\n",
    "            break\n",
    "        else:\n",
    "            discardSet.append(cluster)\n",
    "    if not errorInit:\n",
    "        break\n",
    "    \n",
    "nonDiscardedRDD = clusteredRDD.filter(lambda x: x[0]==-1)\n",
    "print(\"Number of nonDiscarded points: \" + str(nonDiscardedRDD.count()))"
   ]
  },
  {
   "cell_type": "markdown",
   "metadata": {},
   "source": [
    "#### Update Discarded centroids"
   ]
  },
  {
   "cell_type": "code",
   "execution_count": 17,
   "metadata": {},
   "outputs": [],
   "source": [
    "#Cluster = {sum:, sumq:, n:}\n",
    "def update_ClusterList(clusterList, new_candidates):\n",
    "    for i,setOfPoints in enumerate(new_candidates):\n",
    "        clusterList[i][\"sum\"] = getSum(setOfPoints)\n",
    "        clusterList[i][\"sumQ\"] = getSumQ(setOfPoints)\n",
    "        clusterList[i][\"n\"] = len(setOfPoints)\n",
    "    return clusterList\n",
    "            \n",
    "def getSum(pointList):\n",
    "    s = pointList[0][1]\n",
    "    for i in range(1, len(pointList)):\n",
    "        s = s + pointList[i][1]\n",
    "    return s\n",
    "        \n",
    "    \n",
    "def getSumQ(pointList):\n",
    "    s = (pointList[0][1])**2\n",
    "    for i in range(1, len(pointList)):\n",
    "        sq = (pointList[i][1])**2\n",
    "        s = s + sq\n",
    "    return s"
   ]
  },
  {
   "cell_type": "code",
   "execution_count": 18,
   "metadata": {},
   "outputs": [],
   "source": [
    "discardClusterList = [] #each cluster represented by {\"Sum\", \"SumQ\", \"n\"}\n",
    "for i in range(Nof_clusters_BFR):\n",
    "    discardClusterList.append({\"sum\":0, \"sumQ\":0, \"n\":0})\n",
    "\n",
    "discardClusterList = update_ClusterList(discardClusterList, discardSet)"
   ]
  },
  {
   "cell_type": "code",
   "execution_count": 19,
   "metadata": {},
   "outputs": [],
   "source": [
    "#Update the centroids for later use\n",
    "discardCentroids = [discardClusterList[i]['sum']/discardClusterList[i]['n'] for i in range(len(discardClusterList))]"
   ]
  },
  {
   "cell_type": "markdown",
   "metadata": {},
   "source": [
    "### FIND COMPRESS SET AND RETAIN SET\n",
    "+ Generate 3*k minicentroids\n",
    "+ Find compress clusters - Update compress cluster\n",
    "+ the remained are in remain set"
   ]
  },
  {
   "cell_type": "code",
   "execution_count": 20,
   "metadata": {},
   "outputs": [],
   "source": [
    "nonDiscardedRDD2 = nonDiscardedRDD.map(lambda x: x[1])\n",
    "noNonDiscarded = nonDiscardedRDD2.count()\n",
    "miniCentroids = nonDiscardedRDD2.takeSample(False, min(Nof_clusters*2, noNonDiscarded) , 1)"
   ]
  },
  {
   "cell_type": "code",
   "execution_count": 21,
   "metadata": {},
   "outputs": [
    {
     "name": "stdout",
     "output_type": "stream",
     "text": [
      "Number of remained points:  2\n"
     ]
    }
   ],
   "source": [
    "clusterRDD2 = nonDiscardedRDD2.map(lambda x: Euclidean_Clustering(miniCentroids,x))\n",
    "retainSet = clusterRDD2.filter(lambda x: x[0]==-1).map(lambda x: x[1]).collect()\n",
    "print(\"Number of remained points: \", len(retainSet))"
   ]
  },
  {
   "cell_type": "markdown",
   "metadata": {},
   "source": [
    "#### Update mini centroids"
   ]
  },
  {
   "cell_type": "code",
   "execution_count": 22,
   "metadata": {},
   "outputs": [
    {
     "name": "stdout",
     "output_type": "stream",
     "text": [
      "11\n",
      "3\n"
     ]
    }
   ],
   "source": [
    "compressSet = []\n",
    "#count for minicluster that only has more than 1 points\n",
    "for i in range (min(Nof_clusters*2, noNonDiscarded)):\n",
    "    cluster = clusterRDD2.filter(lambda x: x[0]==i).collect()\n",
    "    if len(cluster) > 1:\n",
    "        compressSet.append(cluster)\n",
    "    else:\n",
    "        retainSet.append(cluster[0][1]) #if has only 1 point -> move to retain set\n",
    "print(len(compressSet))\n",
    "print(len(retainSet))"
   ]
  },
  {
   "cell_type": "code",
   "execution_count": 23,
   "metadata": {},
   "outputs": [],
   "source": [
    "compressClusterList = [] #each cluster represented by {\"Sum\", \"SumQ\", \"n\"}\n",
    "for i in range(len(compressSet)):\n",
    "    compressClusterList.append({\"sum\":0, \"sumQ\":0, \"n\":0})\n",
    "\n",
    "compressClusterList = update_ClusterList(compressClusterList, compressSet)"
   ]
  },
  {
   "cell_type": "markdown",
   "metadata": {},
   "source": [
    "#### Now we have discardClusterList, compressClusterList and retainSet"
   ]
  },
  {
   "cell_type": "code",
   "execution_count": null,
   "metadata": {},
   "outputs": [],
   "source": []
  },
  {
   "cell_type": "code",
   "execution_count": null,
   "metadata": {},
   "outputs": [],
   "source": []
  },
  {
   "cell_type": "code",
   "execution_count": null,
   "metadata": {},
   "outputs": [],
   "source": []
  },
  {
   "cell_type": "markdown",
   "metadata": {},
   "source": [
    "### Merge retainSet with the closest cluster\n",
    "+ because the number of points is small so I just find the closest cluster => no need to use mahalabonis factor"
   ]
  },
  {
   "cell_type": "code",
   "execution_count": 24,
   "metadata": {},
   "outputs": [],
   "source": [
    "import math\n",
    "mahalanobis_factor = 3\n",
    "MAHA_THRESH = mahalanobis_factor * math.sqrt(len(discardSet[0][1][1]))\n",
    "def mahalanobis_dist(cluster, point):\n",
    "    n = cluster[\"n\"]\n",
    "    centroids = cluster[\"sum\"]/n\n",
    "    std = np.sqrt(cluster[\"sumQ\"]/n - centroids**2)\n",
    "    temp_std = []\n",
    "    for i in std:\n",
    "        if i == 0:\n",
    "            temp_std.append(1)\n",
    "        else:\n",
    "            temp_std.append(i)\n",
    "    temp_std = np.array(temp_std)\n",
    "    dist = math.sqrt(np.sum((p-centroids/temp_std)**2))\n",
    "    return dist\n",
    "def Euclidean_dist(cluster, point):\n",
    "    n = cluster[\"n\"]\n",
    "    centroids = cluster[\"sum\"]/n\n",
    "    dist = np.linalg.norm(p-centroids)\n",
    "    return dist\n",
    "\n",
    "def updateClusterPoint(cluster, point):\n",
    "    cluster[\"sum\"] = cluster[\"sum\"] + np.array(point)\n",
    "    cluster[\"sumQ\"] = cluster[\"sumQ\"] + np.array(point)**2\n",
    "    cluster[\"n\"] +=1\n",
    "    return cluster\n",
    "    "
   ]
  },
  {
   "cell_type": "markdown",
   "metadata": {},
   "source": [
    "### I tried with Mahalanobis distance but the result got worse than Kmeans"
   ]
  },
  {
   "cell_type": "code",
   "execution_count": 25,
   "metadata": {},
   "outputs": [
    {
     "name": "stdout",
     "output_type": "stream",
     "text": [
      "0\n",
      "updated to discard 0 distance 4.384702492169239\n",
      "1\n",
      "updated to discard 0 distance 0.4615306864377787\n",
      "2\n",
      "updated to discard 0 distance 0.39334275070818164\n"
     ]
    }
   ],
   "source": [
    "discardClusterList2 = discardClusterList\n",
    "compressClusterList2 = compressClusterList\n",
    "for i, point in enumerate(retainSet):\n",
    "    minDist = 10000\n",
    "    index = 0\n",
    "    flag = 0\n",
    "    print(i)\n",
    "    for j, cluster in enumerate(compressClusterList2):\n",
    "        dist = mahalanobis_dist(cluster, point)\n",
    "        if dist < minDist:\n",
    "            flag = 1\n",
    "            minDist = dist\n",
    "            index = j\n",
    "    for j, cluster in enumerate(discardClusterList2):\n",
    "        dist = mahalanobis_dist(cluster, point)\n",
    "        if dist < minDist:\n",
    "            flag = 2\n",
    "            minDist = dist\n",
    "            index = j\n",
    "    if flag == 1:\n",
    "        print(\"updated to compress \" + str(index), \"distance\", minDist)\n",
    "        compressClusterList2[index] = updateClusterPoint(compressClusterList2[index], point)\n",
    "    elif flag == 2:\n",
    "        print(\"updated to discard \" + str(index), \"distance\", minDist)\n",
    "        discardClusterList2[index] = updateClusterPoint(discardClusterList2[index], point)"
   ]
  },
  {
   "cell_type": "markdown",
   "metadata": {},
   "source": [
    "#### Merge compress set with itself and with discard set"
   ]
  },
  {
   "cell_type": "code",
   "execution_count": 26,
   "metadata": {},
   "outputs": [],
   "source": [
    "def calculate_merge_factor(cluster1, cluster2):\n",
    "    s = cluster1['sum'] + cluster2['sum']\n",
    "    sq = cluster1['sumQ'] + cluster2['sumQ']\n",
    "    n = cluster1['n'] + cluster2['n']\n",
    "    stdQ_1 = np.sum(cluster1['sumQ']/cluster1['n']-(cluster1['sum']/cluster1['n'])**2)\n",
    "    stdQ_2 = np.sum(cluster2['sumQ']/cluster2['n']-(cluster2['sum']/cluster2['n'])**2)\n",
    "    stdQ_merge = np.sum(sq/n-(s/n)**2)\n",
    "    factor = stdQ_merge/(stdQ_1+stdQ_2)\n",
    "    return factor, s, sq, n"
   ]
  },
  {
   "cell_type": "markdown",
   "metadata": {},
   "source": [
    "### merge all close cluster until there are only 6 left "
   ]
  },
  {
   "cell_type": "code",
   "execution_count": 27,
   "metadata": {},
   "outputs": [
    {
     "name": "stdout",
     "output_type": "stream",
     "text": [
      "17\n"
     ]
    }
   ],
   "source": [
    "for i in range(len(compressClusterList2)):\n",
    "    discardClusterList2.append(compressClusterList2[i])\n",
    "print(len(discardClusterList2))"
   ]
  },
  {
   "cell_type": "code",
   "execution_count": 28,
   "metadata": {},
   "outputs": [
    {
     "name": "stdout",
     "output_type": "stream",
     "text": [
      "Thresh: 0.5\n",
      "Thresh: 0.6\n",
      "Thresh: 0.7\n",
      "updated discard 8 to discard  10\n",
      "updated discard 10 to discard  12\n",
      "updated discard 12 to discard  15\n",
      "Thresh: 0.7999999999999999\n",
      "updated discard 15 to discard  16\n",
      "Thresh: 0.8999999999999999\n",
      "updated discard 7 to discard  9\n",
      "updated discard 9 to discard  16\n",
      "Thresh: 0.9999999999999999\n",
      "updated discard 0 to discard  16\n",
      "updated discard 1 to discard  16\n",
      "updated discard 6 to discard  16\n",
      "updated discard 11 to discard  16\n",
      "updated discard 13 to discard  16\n"
     ]
    }
   ],
   "source": [
    "remainedDiscardClusters2 = [True for _ in range(len(discardClusterList2))]\n",
    "num_ele_left = len(discardClusterList2)\n",
    "thresh = 0.5\n",
    "while (num_ele_left > 6):\n",
    "    print(\"Thresh:\", thresh)\n",
    "    for i in range(len(discardClusterList2)-1):\n",
    "        if not remainedDiscardClusters2[i]:\n",
    "            continue\n",
    "        min_factor = 10000\n",
    "        index = 0\n",
    "        updateS = 0\n",
    "        updateSQ = 0\n",
    "        updateN = 0\n",
    "        for j in range (i+1,len(discardClusterList2)):\n",
    "            if not remainedDiscardClusters2[j]:\n",
    "                continue\n",
    "            factor, s, sq, n = calculate_merge_factor(discardClusterList2[i], discardClusterList2[j])\n",
    "            if factor <= thresh and factor< min_factor:\n",
    "                min_factor = factor\n",
    "                index = j\n",
    "                updateS = s\n",
    "                updateSQ = sq\n",
    "                updateN = n\n",
    "        if min_factor <= thresh:\n",
    "            print(\"updated discard\", i, \"to discard \", str(index))\n",
    "            discardClusterList2[index]['sum'] = s\n",
    "            discardClusterList2[index]['sumQ'] = sq\n",
    "            discardClusterList2[index]['n'] = n\n",
    "            remainedDiscardClusters2[i] = False\n",
    "            num_ele_left -= 1\n",
    "            \n",
    "        if num_ele_left == 6:\n",
    "            break\n",
    "    thresh+=0.1\n",
    "\n",
    "BFRCluster = [discardClusterList2[i] for i in range(len(discardClusterList2)) if remainedDiscardClusters2[i]]"
   ]
  },
  {
   "cell_type": "markdown",
   "metadata": {},
   "source": [
    "### I calculate if the centroids in BFR are near with those from Kmeans++\n",
    "-> It's actually close and it's pretty worse than Kmeans++\n",
    "-> Maybe there are some dump logic errors in my code"
   ]
  },
  {
   "cell_type": "code",
   "execution_count": 29,
   "metadata": {},
   "outputs": [
    {
     "name": "stdout",
     "output_type": "stream",
     "text": [
      "0.44041825380114497\n",
      "0.0\n",
      "0.3423360344799714\n",
      "1.2988352715028952\n",
      "0.4661042695120764\n",
      "0.5200132976579322\n"
     ]
    }
   ],
   "source": [
    "BFRCentroids = []\n",
    "for cluster in BFRCluster:\n",
    "    BFRCentroids.append(cluster['sum']/cluster['n'])\n",
    "for i in range (len(BFRCentroids)):\n",
    "    min_dis = 100000\n",
    "    for j in range (6):\n",
    "        dis = np.linalg.norm(BFRCentroids[i]-centroidsList[j])\n",
    "        if dis < min_dis:\n",
    "            min_dis = dis\n",
    "    print(min_dis)"
   ]
  },
  {
   "cell_type": "code",
   "execution_count": 30,
   "metadata": {},
   "outputs": [],
   "source": [
    "###Clustering every point:\n",
    "####Use euclidean I get better result than mahalanobis\n",
    "closestBFR = scaledRDD.map(\n",
    "            lambda p: (closestPoint(p, BFRCentroids), (p, 1)))"
   ]
  },
  {
   "cell_type": "markdown",
   "metadata": {},
   "source": [
    "### Visualization of Kmeans++"
   ]
  },
  {
   "cell_type": "code",
   "execution_count": 31,
   "metadata": {},
   "outputs": [],
   "source": [
    "import matplotlib.pyplot as plt\n",
    "from matplotlib  import cm"
   ]
  },
  {
   "cell_type": "code",
   "execution_count": 32,
   "metadata": {},
   "outputs": [
    {
     "data": {
      "image/png": "[encoded data removed]",
      "text/plain": [
       "<Figure size 432x432 with 1 Axes>"
      ]
     },
     "metadata": {
      "needs_background": "light"
     },
     "output_type": "display_data"
    }
   ],
   "source": [
    "#gdpp, child_mort\n",
    "x = closest.map(lambda x: x[1][0][2]).collect() ##gdpp\n",
    "y = closest.map(lambda x: x[1][0][0]).collect() ##child_mort\n",
    "cluster = closest.map(lambda x: x[0]).collect()\n",
    "centroid_x = [x[2] for x in centroidsList]\n",
    "centroid_y = [x[0] for x in centroidsList]\n",
    "fig = plt.figure(figsize=(6,6))\n",
    "ax = fig.add_subplot(111)\n",
    "ax.set_title(\"Clustering\",fontsize=14)\n",
    "ax.set_xlabel(\"gdpp\",fontsize=12)\n",
    "ax.set_ylabel(\"child_mort\",fontsize=12)\n",
    "ax.grid(True,linestyle='-',color='0.75')\n",
    "\n",
    "# points coordinates\n",
    "\n",
    "ax.scatter(x,y,s=40,c=cluster, marker = 'o', cmap = cm.jet )\n",
    "\n",
    "ax.scatter(centroid_x,centroid_y,s=60, marker = 'x', color=\"red\",cmap = cm.jet )\n",
    "\n",
    "plt.show()"
   ]
  },
  {
   "cell_type": "code",
   "execution_count": 33,
   "metadata": {},
   "outputs": [
    {
     "data": {
      "image/png": "[encoded data removed]",
      "text/plain": [
       "<Figure size 432x432 with 1 Axes>"
      ]
     },
     "metadata": {
      "needs_background": "light"
     },
     "output_type": "display_data"
    }
   ],
   "source": [
    "#income, child_mort\n",
    "x = closest.map(lambda x: x[1][0][1]).collect() ##income\n",
    "y = closest.map(lambda x: x[1][0][0]).collect() ##child_mort\n",
    "cluster = closest.map(lambda x: x[0]).collect()\n",
    "centroid_x = [x[1] for x in centroidsList]\n",
    "centroid_y = [x[0] for x in centroidsList]\n",
    "fig = plt.figure(figsize=(6,6))\n",
    "ax = fig.add_subplot(111)\n",
    "ax.set_title(\"Clustering\",fontsize=14)\n",
    "ax.set_xlabel(\"income\",fontsize=12)\n",
    "ax.set_ylabel(\"child_mort\",fontsize=12)\n",
    "ax.grid(True,linestyle='-',color='0.75')\n",
    "\n",
    "# points coordinates\n",
    "\n",
    "ax.scatter(x,y,s=40,c=cluster, marker = 'o', cmap = cm.jet )\n",
    "\n",
    "ax.scatter(centroid_x,centroid_y,s=60, marker = 'x', color=\"red\",cmap = cm.jet )\n",
    "\n",
    "plt.show()"
   ]
  },
  {
   "cell_type": "code",
   "execution_count": 34,
   "metadata": {},
   "outputs": [
    {
     "data": {
      "image/png": "[encoded data removed]",
      "text/plain": [
       "<Figure size 432x432 with 1 Axes>"
      ]
     },
     "metadata": {
      "needs_background": "light"
     },
     "output_type": "display_data"
    }
   ],
   "source": [
    "#income, gdpp\n",
    "x = closest.map(lambda x: x[1][0][1]).collect() ##income\n",
    "y = closest.map(lambda x: x[1][0][2]).collect() ##gdpp\n",
    "cluster = closest.map(lambda x: x[0]).collect()\n",
    "centroid_x = [x[1] for x in centroidsList]\n",
    "centroid_y = [x[2] for x in centroidsList]\n",
    "fig = plt.figure(figsize=(6,6))\n",
    "ax = fig.add_subplot(111)\n",
    "ax.set_title(\"Clustering\",fontsize=14)\n",
    "ax.set_xlabel(\"income\",fontsize=12)\n",
    "ax.set_ylabel(\"gdpp\",fontsize=12)\n",
    "ax.grid(True,linestyle='-',color='0.75')\n",
    "\n",
    "# points coordinates\n",
    "\n",
    "ax.scatter(x,y,s=40,c=cluster, marker = 'o', cmap = cm.jet )\n",
    "\n",
    "ax.scatter(centroid_x,centroid_y,s=60, marker = 'x', color=\"red\",cmap = cm.jet )\n",
    "\n",
    "plt.show()"
   ]
  },
  {
   "cell_type": "markdown",
   "metadata": {},
   "source": [
    "### Visualization of BFR++"
   ]
  },
  {
   "cell_type": "code",
   "execution_count": 35,
   "metadata": {},
   "outputs": [
    {
     "data": {
      "image/png": "[encoded data removed]",
      "text/plain": [
       "<Figure size 432x432 with 1 Axes>"
      ]
     },
     "metadata": {
      "needs_background": "light"
     },
     "output_type": "display_data"
    }
   ],
   "source": [
    "#gdpp, child_mort\n",
    "x = closestBFR.map(lambda x: x[1][0][2]).collect() ##gdpp\n",
    "y = closestBFR.map(lambda x: x[1][0][0]).collect() ##child_mort\n",
    "cluster = closestBFR.map(lambda x: x[0]).collect()\n",
    "centroid_x = [x[2] for x in BFRCentroids]\n",
    "centroid_y = [x[0] for x in BFRCentroids]\n",
    "fig = plt.figure(figsize=(6,6))\n",
    "ax = fig.add_subplot(111)\n",
    "ax.set_title(\"Clustering\",fontsize=14)\n",
    "ax.set_xlabel(\"gdpp\",fontsize=12)\n",
    "ax.set_ylabel(\"child_mort\",fontsize=12)\n",
    "ax.grid(True,linestyle='-',color='0.75')\n",
    "\n",
    "# points coordinates\n",
    "\n",
    "ax.scatter(x,y,s=40,c=cluster, marker = 'o', cmap = cm.jet )\n",
    "\n",
    "ax.scatter(centroid_x,centroid_y,s=200, marker = 'x', color=\"red\",cmap = cm.jet )\n",
    "\n",
    "plt.show()"
   ]
  },
  {
   "cell_type": "code",
   "execution_count": 36,
   "metadata": {},
   "outputs": [
    {
     "data": {
      "image/png": "[encoded data removed]",
      "text/plain": [
       "<Figure size 432x432 with 1 Axes>"
      ]
     },
     "metadata": {
      "needs_background": "light"
     },
     "output_type": "display_data"
    }
   ],
   "source": [
    "##income, child_mort\n",
    "x = closestBFR.map(lambda x: x[1][0][1]).collect() ##income\n",
    "y = closestBFR.map(lambda x: x[1][0][0]).collect() ##child_mort\n",
    "cluster = closestBFR.map(lambda x: x[0]).collect()\n",
    "centroid_x = [x[1] for x in BFRCentroids]\n",
    "centroid_y = [x[0] for x in BFRCentroids]\n",
    "fig = plt.figure(figsize=(6,6))\n",
    "ax = fig.add_subplot(111)\n",
    "ax.set_title(\"Clustering\",fontsize=14)\n",
    "ax.set_xlabel(\"income\",fontsize=12)\n",
    "ax.set_ylabel(\"child_mort\",fontsize=12)\n",
    "ax.grid(True,linestyle='-',color='0.75')\n",
    "\n",
    "# points coordinates\n",
    "\n",
    "ax.scatter(x,y,s=40,c=cluster, marker = 'o', cmap = cm.jet )\n",
    "\n",
    "ax.scatter(centroid_x,centroid_y,s=200, marker = 'x', color=\"red\",cmap = cm.jet )\n",
    "\n",
    "plt.show()"
   ]
  },
  {
   "cell_type": "code",
   "execution_count": 37,
   "metadata": {},
   "outputs": [
    {
     "data": {
      "image/png": "[encoded data removed]",
      "text/plain": [
       "<Figure size 432x432 with 1 Axes>"
      ]
     },
     "metadata": {
      "needs_background": "light"
     },
     "output_type": "display_data"
    }
   ],
   "source": [
    "##income, gdpp\n",
    "x = closestBFR.map(lambda x: x[1][0][1]).collect() ##income\n",
    "y = closestBFR.map(lambda x: x[1][0][2]).collect() ##gdpp\n",
    "cluster = closestBFR.map(lambda x: x[0]).collect()\n",
    "centroid_x = [x[1] for x in BFRCentroids]\n",
    "centroid_y = [x[2] for x in BFRCentroids]\n",
    "fig = plt.figure(figsize=(6,6))\n",
    "ax = fig.add_subplot(111)\n",
    "ax.set_title(\"Clustering\",fontsize=14)\n",
    "ax.set_xlabel(\"income\",fontsize=12)\n",
    "ax.set_ylabel(\"gdpp\",fontsize=12)\n",
    "ax.grid(True,linestyle='-',color='0.75')\n",
    "\n",
    "# points coordinates\n",
    "\n",
    "ax.scatter(x,y,s=40,c=cluster, marker = 'o', cmap = cm.jet )\n",
    "\n",
    "ax.scatter(centroid_x,centroid_y,s=200, marker = 'x', color=\"red\",cmap = cm.jet )\n",
    "\n",
    "plt.show()"
   ]
  },
  {
   "cell_type": "code",
   "execution_count": null,
   "metadata": {},
   "outputs": [],
   "source": []
  }
 ],
 "metadata": {
  "kernelspec": {
   "display_name": "Python 3",
   "language": "python",
   "name": "python3"
  },
  "language_info": {
   "codemirror_mode": {
    "name": "ipython",
    "version": 3
   },
   "file_extension": ".py",
   "mimetype": "text/x-python",
   "name": "python",
   "nbconvert_exporter": "python",
   "pygments_lexer": "ipython3",
   "version": "3.6.9"
  }
 },
 "nbformat": 4,
 "nbformat_minor": 4
}
